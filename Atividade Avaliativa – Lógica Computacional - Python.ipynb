{
 "cells": [
  {
   "cell_type": "code",
   "execution_count": 1,
   "id": "6de6a0ba-b716-4dd4-a389-7ed28b864ddb",
   "metadata": {},
   "outputs": [
    {
     "name": "stdout",
     "output_type": "stream",
     "text": [
      " P | Q | R  | S | P -> Q | R -> S | P ∨ R | (P -> Q) ∧ (R -> S) ∧ (P ∨ R) | (Q ∨ S) | ((P -> Q) ∧ (R -> S) ∧ (P ∨ R)) -> (Q ∨ S)\n",
      " V | V |  V | V |    V   |    V   |   V   |               V                |    V    |       V\n",
      " V | V |  V | F |    V   |    F   |   V   |               F                |    V    |       V\n",
      " V | V |  F | V |    V   |    V   |   V   |               V                |    V    |       V\n",
      " V | V |  F | F |    V   |    V   |   V   |               V                |    V    |       V\n",
      " V | F |  V | V |    F   |    V   |   V   |               F                |    V    |       V\n",
      " V | F |  V | F |    F   |    F   |   V   |               F                |    F    |       V\n",
      " V | F |  F | V |    F   |    V   |   V   |               F                |    V    |       V\n",
      " V | F |  F | F |    F   |    V   |   V   |               F                |    F    |       V\n",
      " F | V |  V | V |    V   |    V   |   V   |               V                |    V    |       V\n",
      " F | V |  V | F |    V   |    F   |   V   |               F                |    V    |       V\n",
      " F | V |  F | V |    V   |    V   |   F   |               V                |    V    |       V\n",
      " F | V |  F | F |    V   |    V   |   F   |               V                |    V    |       V\n",
      " F | F |  V | V |    V   |    V   |   V   |               V                |    V    |       V\n",
      " F | F |  V | F |    V   |    F   |   V   |               F                |    F    |       V\n",
      " F | F |  F | V |    V   |    V   |   F   |               V                |    V    |       V\n",
      " F | F |  F | F |    V   |    V   |   F   |               V                |    F    |       V\n"
     ]
    }
   ],
   "source": [
    "#Dilema Construtivo - ((𝒑→𝒒)∧(𝒓→𝒔)∧(𝒑∨𝒓))→(𝒒∨𝒔)\n",
    "\n",
    "print(f\" P | Q | R  | S | P -> Q | R -> S | P ∨ R | (P -> Q) ∧ (R -> S) ∧ (P ∨ R) | (Q ∨ S) | ((P -> Q) ∧ (R -> S) ∧ (P ∨ R)) -> (Q ∨ S)\")\n",
    "\n",
    "for a in range(0, 2, 1):\n",
    "    for b in range(0, 2, 1):\n",
    "        for c in range(0, 2, 1):\n",
    "            for d in range(0, 2, 1):\n",
    "                if a == 0:\n",
    "                    P = \"V\"\n",
    "                else:\n",
    "                    P = \"F\"\n",
    "                if b == 0:\n",
    "                    Q = \"V\"\n",
    "                else:\n",
    "                    Q = \"F\"\n",
    "                if c == 0:\n",
    "                    R = \"V\"\n",
    "                else:\n",
    "                    R = \"F\"\n",
    "                if d == 0:\n",
    "                    S = \"V\"\n",
    "                else:\n",
    "                    S = \"F\"\n",
    "\n",
    "                if P == \"V\" and Q == \"F\":\n",
    "                    PQ = \"F\"\n",
    "                else:\n",
    "                    PQ = \"V\"\n",
    "                if R == \"V\" and S == \"F\":\n",
    "                    RS = \"F\"\n",
    "                else:\n",
    "                    RS = \"V\"\n",
    "\n",
    "                if P == \"V\" or R == \"V\":\n",
    "                    PR = \"V\"\n",
    "                else:\n",
    "                    PR = \"F\"\n",
    "\n",
    "                if Q == \"V\" or S == \"V\":\n",
    "                    QS = \"V\"\n",
    "                else:\n",
    "                    QS = \"F\"\n",
    "\n",
    "                if PQ == \"V\" and RS == \"V\":\n",
    "                    PQRS = \"V\"\n",
    "                else:\n",
    "                    PQRS = \"F\"\n",
    "\n",
    "                if PQRS == \"V\" and PR == \"V\":\n",
    "                    PQRSPR = \"V\"\n",
    "                else:\n",
    "                    PQRSPR = \"F\"\n",
    "\n",
    "                if PQRSPR == \"V\" and QS == \"F\":\n",
    "                    PQRSPRQS = \"F\"\n",
    "                else:\n",
    "                    PQRSPRQS = \"V\"\n",
    "\n",
    "                print(f\" {P} | {Q} |  {R} | {S} |    {PQ}   |    {RS}   |   {PR}   |               {PQRS}                |    {QS}    |       {PQRSPRQS}\") "
   ]
  },
  {
   "cell_type": "code",
   "execution_count": null,
   "id": "a5088f97-539f-4e4f-b64c-7058d51386bb",
   "metadata": {},
   "outputs": [],
   "source": []
  }
 ],
 "metadata": {
  "kernelspec": {
   "display_name": "Python 3 (ipykernel)",
   "language": "python",
   "name": "python3"
  },
  "language_info": {
   "codemirror_mode": {
    "name": "ipython",
    "version": 3
   },
   "file_extension": ".py",
   "mimetype": "text/x-python",
   "name": "python",
   "nbconvert_exporter": "python",
   "pygments_lexer": "ipython3",
   "version": "3.11.7"
  }
 },
 "nbformat": 4,
 "nbformat_minor": 5
}
